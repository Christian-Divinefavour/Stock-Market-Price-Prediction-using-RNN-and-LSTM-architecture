{
  "nbformat": 4,
  "nbformat_minor": 0,
  "metadata": {
    "colab": {
      "name": "Project.ipynb",
      "provenance": [],
      "collapsed_sections": [],
      "mount_file_id": "1cjHP0JUKfgH76BteDK0JNg0QjmRjkJc-",
      "authorship_tag": "ABX9TyPbL+ITuv2eHB1OM1h/Jn/j",
      "include_colab_link": true
    },
    "kernelspec": {
      "name": "python3",
      "display_name": "Python 3"
    }
  },
  "cells": [
    {
      "cell_type": "markdown",
      "metadata": {
        "id": "view-in-github",
        "colab_type": "text"
      },
      "source": [
        "<a href=\"https://colab.research.google.com/github/Christian-Divinefavour/Stock-Market-Price-Prediction-using-RNN-and-LSTM-architecture/blob/main/Project.ipynb\" target=\"_parent\"><img src=\"https://colab.research.google.com/assets/colab-badge.svg\" alt=\"Open In Colab\"/></a>"
      ]
    },
    {
      "cell_type": "code",
      "metadata": {
        "id": "QpmRkwbh8f9e"
      },
      "source": [
        "#--Description:This program aims at using the Artificial Neural Networks: Recurrent Neural Network and Long Short Term\n",
        "#              Memory (LSTM) to predict future closing prices of the Brent Oil Commodity using previous stock price from\n",
        "#              105 months (Dec 2, 2010 to Sept 2, 2019) ."
      ],
      "execution_count": null,
      "outputs": []
    },
    {
      "cell_type": "code",
      "metadata": {
        "id": "dfeO9B_E9i2i"
      },
      "source": [
        "#-------IMPORT LIBRARIES--------"
      ],
      "execution_count": null,
      "outputs": []
    },
    {
      "cell_type": "code",
      "metadata": {
        "id": "r7krP6O39yip"
      },
      "source": [
        "import math\n",
        "import numpy as np\n",
        "import pandas as pd\n",
        "import matplotlib.pyplot as plt\n",
        "plt.style.use('fivethirtyeight')\n",
        "from sklearn.preprocessing import MinMaxScaler\n",
        "import tensorflow as tf\n",
        "from keras.models import Sequential\n",
        "from keras.layers import Dense, LSTM"
      ],
      "execution_count": null,
      "outputs": []
    },
    {
      "cell_type": "code",
      "metadata": {
        "id": "fsgT448x-jzs"
      },
      "source": [
        "#------------IMPORT THE DATAFRAME-----------"
      ],
      "execution_count": null,
      "outputs": []
    },
    {
      "cell_type": "code",
      "metadata": {
        "id": "YhUYQfi0-oeV",
        "colab": {
          "base_uri": "https://localhost:8080/",
          "height": 197
        },
        "outputId": "79e0f657-c7d6-490d-a38a-b4334a364a32"
      },
      "source": [
        "df = pd.read_csv('/content/drive/MyDrive/Colab Notebooks/BRENToil.csv')\n",
        "df.head()"
      ],
      "execution_count": null,
      "outputs": [
        {
          "output_type": "execute_result",
          "data": {
            "text/html": [
              "<div>\n",
              "<style scoped>\n",
              "    .dataframe tbody tr th:only-of-type {\n",
              "        vertical-align: middle;\n",
              "    }\n",
              "\n",
              "    .dataframe tbody tr th {\n",
              "        vertical-align: top;\n",
              "    }\n",
              "\n",
              "    .dataframe thead th {\n",
              "        text-align: right;\n",
              "    }\n",
              "</style>\n",
              "<table border=\"1\" class=\"dataframe\">\n",
              "  <thead>\n",
              "    <tr style=\"text-align: right;\">\n",
              "      <th></th>\n",
              "      <th>Gmt time</th>\n",
              "      <th>Open</th>\n",
              "      <th>High</th>\n",
              "      <th>Low</th>\n",
              "      <th>Close</th>\n",
              "      <th>Volume</th>\n",
              "    </tr>\n",
              "  </thead>\n",
              "  <tbody>\n",
              "    <tr>\n",
              "      <th>0</th>\n",
              "      <td>01.12.2010 22:00:00.000</td>\n",
              "      <td>88.734</td>\n",
              "      <td>90.810</td>\n",
              "      <td>88.390</td>\n",
              "      <td>90.680</td>\n",
              "      <td>10575.0840</td>\n",
              "    </tr>\n",
              "    <tr>\n",
              "      <th>1</th>\n",
              "      <td>02.12.2010 22:00:00.000</td>\n",
              "      <td>90.690</td>\n",
              "      <td>91.838</td>\n",
              "      <td>90.086</td>\n",
              "      <td>91.565</td>\n",
              "      <td>18357.7109</td>\n",
              "    </tr>\n",
              "    <tr>\n",
              "      <th>2</th>\n",
              "      <td>05.12.2010 22:00:00.000</td>\n",
              "      <td>91.578</td>\n",
              "      <td>91.999</td>\n",
              "      <td>90.836</td>\n",
              "      <td>90.968</td>\n",
              "      <td>22625.6281</td>\n",
              "    </tr>\n",
              "    <tr>\n",
              "      <th>3</th>\n",
              "      <td>06.12.2010 22:00:00.000</td>\n",
              "      <td>90.975</td>\n",
              "      <td>92.840</td>\n",
              "      <td>90.695</td>\n",
              "      <td>90.868</td>\n",
              "      <td>15015.8009</td>\n",
              "    </tr>\n",
              "    <tr>\n",
              "      <th>4</th>\n",
              "      <td>07.12.2010 22:00:00.000</td>\n",
              "      <td>90.858</td>\n",
              "      <td>91.708</td>\n",
              "      <td>90.128</td>\n",
              "      <td>90.991</td>\n",
              "      <td>17948.3942</td>\n",
              "    </tr>\n",
              "  </tbody>\n",
              "</table>\n",
              "</div>"
            ],
            "text/plain": [
              "                  Gmt time    Open    High     Low   Close      Volume\n",
              "0  01.12.2010 22:00:00.000  88.734  90.810  88.390  90.680  10575.0840\n",
              "1  02.12.2010 22:00:00.000  90.690  91.838  90.086  91.565  18357.7109\n",
              "2  05.12.2010 22:00:00.000  91.578  91.999  90.836  90.968  22625.6281\n",
              "3  06.12.2010 22:00:00.000  90.975  92.840  90.695  90.868  15015.8009\n",
              "4  07.12.2010 22:00:00.000  90.858  91.708  90.128  90.991  17948.3942"
            ]
          },
          "metadata": {
            "tags": []
          },
          "execution_count": 5
        }
      ]
    },
    {
      "cell_type": "markdown",
      "metadata": {
        "id": "k1Z_xEJtsVU2"
      },
      "source": [
        "# New section"
      ]
    },
    {
      "cell_type": "code",
      "metadata": {
        "id": "uTeN5Wm9-xAY",
        "colab": {
          "base_uri": "https://localhost:8080/"
        },
        "outputId": "cf268952-8e74-4756-f7a4-226d5f6b2aac"
      },
      "source": [
        "df.shape"
      ],
      "execution_count": null,
      "outputs": [
        {
          "output_type": "execute_result",
          "data": {
            "text/plain": [
              "(2212, 6)"
            ]
          },
          "metadata": {
            "tags": []
          },
          "execution_count": 6
        }
      ]
    },
    {
      "cell_type": "code",
      "metadata": {
        "id": "0ugtxfsg-10J"
      },
      "source": [
        "#-----------DISPLAY DATA TYPES---------"
      ],
      "execution_count": null,
      "outputs": []
    },
    {
      "cell_type": "code",
      "metadata": {
        "id": "tW-4LUbb-6cB",
        "colab": {
          "base_uri": "https://localhost:8080/"
        },
        "outputId": "a6ae203e-c277-4a93-9a81-60ee300161fd"
      },
      "source": [
        "df.dtypes"
      ],
      "execution_count": null,
      "outputs": [
        {
          "output_type": "execute_result",
          "data": {
            "text/plain": [
              "Gmt time     object\n",
              "Open        float64\n",
              "High        float64\n",
              "Low         float64\n",
              "Close       float64\n",
              "Volume      float64\n",
              "dtype: object"
            ]
          },
          "metadata": {
            "tags": []
          },
          "execution_count": 8
        }
      ]
    },
    {
      "cell_type": "code",
      "metadata": {
        "id": "CRUBTWNA-_kE"
      },
      "source": [
        "#----------CONVERT 'GMT TIME' TO DATETIME DATA TYPE---------"
      ],
      "execution_count": null,
      "outputs": []
    },
    {
      "cell_type": "code",
      "metadata": {
        "id": "7C1jXimI_FuH",
        "colab": {
          "base_uri": "https://localhost:8080/"
        },
        "outputId": "4c37b268-a828-45e6-9afc-c0bbf91ab3e3"
      },
      "source": [
        "df['Gmt time']=pd.to_datetime(df['Gmt time'])\n",
        "df.dtypes"
      ],
      "execution_count": null,
      "outputs": [
        {
          "output_type": "execute_result",
          "data": {
            "text/plain": [
              "Gmt time    datetime64[ns]\n",
              "Open               float64\n",
              "High               float64\n",
              "Low                float64\n",
              "Close              float64\n",
              "Volume             float64\n",
              "dtype: object"
            ]
          },
          "metadata": {
            "tags": []
          },
          "execution_count": 10
        }
      ]
    },
    {
      "cell_type": "code",
      "metadata": {
        "colab": {
          "base_uri": "https://localhost:8080/",
          "height": 197
        },
        "id": "xEXVipJtNfI7",
        "outputId": "a808bf23-73df-4884-9bf7-a6a930376608"
      },
      "source": [
        "df.head()"
      ],
      "execution_count": null,
      "outputs": [
        {
          "output_type": "execute_result",
          "data": {
            "text/html": [
              "<div>\n",
              "<style scoped>\n",
              "    .dataframe tbody tr th:only-of-type {\n",
              "        vertical-align: middle;\n",
              "    }\n",
              "\n",
              "    .dataframe tbody tr th {\n",
              "        vertical-align: top;\n",
              "    }\n",
              "\n",
              "    .dataframe thead th {\n",
              "        text-align: right;\n",
              "    }\n",
              "</style>\n",
              "<table border=\"1\" class=\"dataframe\">\n",
              "  <thead>\n",
              "    <tr style=\"text-align: right;\">\n",
              "      <th></th>\n",
              "      <th>Gmt time</th>\n",
              "      <th>Open</th>\n",
              "      <th>High</th>\n",
              "      <th>Low</th>\n",
              "      <th>Close</th>\n",
              "      <th>Volume</th>\n",
              "    </tr>\n",
              "  </thead>\n",
              "  <tbody>\n",
              "    <tr>\n",
              "      <th>0</th>\n",
              "      <td>2010-01-12 22:00:00</td>\n",
              "      <td>88.734</td>\n",
              "      <td>90.810</td>\n",
              "      <td>88.390</td>\n",
              "      <td>90.680</td>\n",
              "      <td>10575.0840</td>\n",
              "    </tr>\n",
              "    <tr>\n",
              "      <th>1</th>\n",
              "      <td>2010-02-12 22:00:00</td>\n",
              "      <td>90.690</td>\n",
              "      <td>91.838</td>\n",
              "      <td>90.086</td>\n",
              "      <td>91.565</td>\n",
              "      <td>18357.7109</td>\n",
              "    </tr>\n",
              "    <tr>\n",
              "      <th>2</th>\n",
              "      <td>2010-05-12 22:00:00</td>\n",
              "      <td>91.578</td>\n",
              "      <td>91.999</td>\n",
              "      <td>90.836</td>\n",
              "      <td>90.968</td>\n",
              "      <td>22625.6281</td>\n",
              "    </tr>\n",
              "    <tr>\n",
              "      <th>3</th>\n",
              "      <td>2010-06-12 22:00:00</td>\n",
              "      <td>90.975</td>\n",
              "      <td>92.840</td>\n",
              "      <td>90.695</td>\n",
              "      <td>90.868</td>\n",
              "      <td>15015.8009</td>\n",
              "    </tr>\n",
              "    <tr>\n",
              "      <th>4</th>\n",
              "      <td>2010-07-12 22:00:00</td>\n",
              "      <td>90.858</td>\n",
              "      <td>91.708</td>\n",
              "      <td>90.128</td>\n",
              "      <td>90.991</td>\n",
              "      <td>17948.3942</td>\n",
              "    </tr>\n",
              "  </tbody>\n",
              "</table>\n",
              "</div>"
            ],
            "text/plain": [
              "             Gmt time    Open    High     Low   Close      Volume\n",
              "0 2010-01-12 22:00:00  88.734  90.810  88.390  90.680  10575.0840\n",
              "1 2010-02-12 22:00:00  90.690  91.838  90.086  91.565  18357.7109\n",
              "2 2010-05-12 22:00:00  91.578  91.999  90.836  90.968  22625.6281\n",
              "3 2010-06-12 22:00:00  90.975  92.840  90.695  90.868  15015.8009\n",
              "4 2010-07-12 22:00:00  90.858  91.708  90.128  90.991  17948.3942"
            ]
          },
          "metadata": {
            "tags": []
          },
          "execution_count": 11
        }
      ]
    },
    {
      "cell_type": "code",
      "metadata": {
        "id": "0FB2UQYd_J-Y"
      },
      "source": [
        "#------------CLOSING PRICE VISUALIZATION-------------"
      ],
      "execution_count": null,
      "outputs": []
    },
    {
      "cell_type": "code",
      "metadata": {
        "id": "a74wCZgM_QlD",
        "colab": {
          "base_uri": "https://localhost:8080/",
          "height": 577
        },
        "outputId": "9660b74f-de3d-493f-cad0-e0ca5c2bd6a8"
      },
      "source": [
        "plt.figure(figsize=(16,8))\n",
        "plt.title('CLOSE PRICE VISIUALIZATION')\n",
        "plt.plot(df['Close'])\n",
        "plt.xlabel('Days')\n",
        "plt.ylabel('Price ($)')\n",
        "plt.show()"
      ],
      "execution_count": null,
      "outputs": [
        {
          "output_type": "display_data",
          "data": {
            "image/png": "[encoded data removed]",
            "text/plain": [
              "<Figure size 1152x576 with 1 Axes>"
            ]
          },
          "metadata": {
            "tags": []
          }
        }
      ]
    },
    {
      "cell_type": "code",
      "metadata": {
        "id": "tMOmHAl6n3eD",
        "colab": {
          "base_uri": "https://localhost:8080/"
        },
        "outputId": "ef84a861-59bb-40c5-a8c4-6788677feed3"
      },
      "source": [
        "c_df = df.filter(['Close'])\n",
        "data = c_df.values\n",
        "train_c_df_len = math.ceil(len(data)*.8)\n",
        "train_c_df_len"
      ],
      "execution_count": null,
      "outputs": [
        {
          "output_type": "execute_result",
          "data": {
            "text/plain": [
              "1770"
            ]
          },
          "metadata": {
            "tags": []
          },
          "execution_count": 14
        }
      ]
    },
    {
      "cell_type": "code",
      "metadata": {
        "id": "c5S5m-2mxLRI",
        "colab": {
          "base_uri": "https://localhost:8080/"
        },
        "outputId": "e37f623c-5f8a-400d-d9f6-99b00d98c0b8"
      },
      "source": [
        "norm = MinMaxScaler(feature_range=(0,1))\n",
        "norm_data = norm.fit_transform(data)\n",
        "norm_data"
      ],
      "execution_count": null,
      "outputs": [
        {
          "output_type": "execute_result",
          "data": {
            "text/plain": [
              "array([[0.63464548],\n",
              "       [0.64358045],\n",
              "       [0.63755313],\n",
              "       ...,\n",
              "       [0.31515714],\n",
              "       [0.31051298],\n",
              "       [0.30647457]])"
            ]
          },
          "metadata": {
            "tags": []
          },
          "execution_count": 15
        }
      ]
    },
    {
      "cell_type": "code",
      "metadata": {
        "colab": {
          "base_uri": "https://localhost:8080/",
          "height": 197
        },
        "id": "TsB6Gfabg4fo",
        "outputId": "1f3a93b7-39a5-4dea-ff73-099413a4e7f9"
      },
      "source": [
        "norm_df = pd.DataFrame(norm_data, columns=['Normalized Close'])\n",
        "norm_df.head()"
      ],
      "execution_count": null,
      "outputs": [
        {
          "output_type": "execute_result",
          "data": {
            "text/html": [
              "<div>\n",
              "<style scoped>\n",
              "    .dataframe tbody tr th:only-of-type {\n",
              "        vertical-align: middle;\n",
              "    }\n",
              "\n",
              "    .dataframe tbody tr th {\n",
              "        vertical-align: top;\n",
              "    }\n",
              "\n",
              "    .dataframe thead th {\n",
              "        text-align: right;\n",
              "    }\n",
              "</style>\n",
              "<table border=\"1\" class=\"dataframe\">\n",
              "  <thead>\n",
              "    <tr style=\"text-align: right;\">\n",
              "      <th></th>\n",
              "      <th>Normalized Close</th>\n",
              "    </tr>\n",
              "  </thead>\n",
              "  <tbody>\n",
              "    <tr>\n",
              "      <th>0</th>\n",
              "      <td>0.634645</td>\n",
              "    </tr>\n",
              "    <tr>\n",
              "      <th>1</th>\n",
              "      <td>0.643580</td>\n",
              "    </tr>\n",
              "    <tr>\n",
              "      <th>2</th>\n",
              "      <td>0.637553</td>\n",
              "    </tr>\n",
              "    <tr>\n",
              "      <th>3</th>\n",
              "      <td>0.636544</td>\n",
              "    </tr>\n",
              "    <tr>\n",
              "      <th>4</th>\n",
              "      <td>0.637785</td>\n",
              "    </tr>\n",
              "  </tbody>\n",
              "</table>\n",
              "</div>"
            ],
            "text/plain": [
              "   Normalized Close\n",
              "0          0.634645\n",
              "1          0.643580\n",
              "2          0.637553\n",
              "3          0.636544\n",
              "4          0.637785"
            ]
          },
          "metadata": {
            "tags": []
          },
          "execution_count": 16
        }
      ]
    },
    {
      "cell_type": "code",
      "metadata": {
        "colab": {
          "base_uri": "https://localhost:8080/",
          "height": 197
        },
        "id": "UT005zZtkfbh",
        "outputId": "6d0d25e6-60f6-456a-caa3-c47f206fbf8d"
      },
      "source": [
        "comp_norm_df = pd.concat([c_df, norm_df], axis = 1)\n",
        "comp_norm_df.head()"
      ],
      "execution_count": null,
      "outputs": [
        {
          "output_type": "execute_result",
          "data": {
            "text/html": [
              "<div>\n",
              "<style scoped>\n",
              "    .dataframe tbody tr th:only-of-type {\n",
              "        vertical-align: middle;\n",
              "    }\n",
              "\n",
              "    .dataframe tbody tr th {\n",
              "        vertical-align: top;\n",
              "    }\n",
              "\n",
              "    .dataframe thead th {\n",
              "        text-align: right;\n",
              "    }\n",
              "</style>\n",
              "<table border=\"1\" class=\"dataframe\">\n",
              "  <thead>\n",
              "    <tr style=\"text-align: right;\">\n",
              "      <th></th>\n",
              "      <th>Close</th>\n",
              "      <th>Normalized Close</th>\n",
              "    </tr>\n",
              "  </thead>\n",
              "  <tbody>\n",
              "    <tr>\n",
              "      <th>0</th>\n",
              "      <td>90.680</td>\n",
              "      <td>0.634645</td>\n",
              "    </tr>\n",
              "    <tr>\n",
              "      <th>1</th>\n",
              "      <td>91.565</td>\n",
              "      <td>0.643580</td>\n",
              "    </tr>\n",
              "    <tr>\n",
              "      <th>2</th>\n",
              "      <td>90.968</td>\n",
              "      <td>0.637553</td>\n",
              "    </tr>\n",
              "    <tr>\n",
              "      <th>3</th>\n",
              "      <td>90.868</td>\n",
              "      <td>0.636544</td>\n",
              "    </tr>\n",
              "    <tr>\n",
              "      <th>4</th>\n",
              "      <td>90.991</td>\n",
              "      <td>0.637785</td>\n",
              "    </tr>\n",
              "  </tbody>\n",
              "</table>\n",
              "</div>"
            ],
            "text/plain": [
              "    Close  Normalized Close\n",
              "0  90.680          0.634645\n",
              "1  91.565          0.643580\n",
              "2  90.968          0.637553\n",
              "3  90.868          0.636544\n",
              "4  90.991          0.637785"
            ]
          },
          "metadata": {
            "tags": []
          },
          "execution_count": 58
        }
      ]
    },
    {
      "cell_type": "code",
      "metadata": {
        "id": "W5a0KoXxxRbS"
      },
      "source": [
        "train_df = norm_data[0:train_c_df_len,:]"
      ],
      "execution_count": null,
      "outputs": []
    },
    {
      "cell_type": "code",
      "metadata": {
        "id": "L_fbM5r5xUwQ"
      },
      "source": [
        "\n",
        "x_train = []\n",
        "y_train = []\n",
        "\n",
        "for i in range(60, len(train_df)):\n",
        "    x_train.append(train_df[i-60:i, 0])\n",
        "    y_train.append(train_df[i,0])"
      ],
      "execution_count": null,
      "outputs": []
    },
    {
      "cell_type": "code",
      "metadata": {
        "id": "D9sQsyxzxYX8"
      },
      "source": [
        "x_train, y_train= np.array(x_train), np.array(y_train)"
      ],
      "execution_count": null,
      "outputs": []
    },
    {
      "cell_type": "code",
      "metadata": {
        "id": "gM0XgWcAxbi4",
        "colab": {
          "base_uri": "https://localhost:8080/"
        },
        "outputId": "d0791474-55fd-4ade-9258-cc38242024b6"
      },
      "source": [
        "x_train = np.reshape(x_train, (x_train.shape[0], x_train.shape[1], 1))\n",
        "x_train.shape"
      ],
      "execution_count": null,
      "outputs": [
        {
          "output_type": "execute_result",
          "data": {
            "text/plain": [
              "(1710, 60, 1)"
            ]
          },
          "metadata": {
            "tags": []
          },
          "execution_count": 21
        }
      ]
    },
    {
      "cell_type": "code",
      "metadata": {
        "id": "PUg3Y8PGxjHS"
      },
      "source": [
        "model = tf.keras.Sequential()\n",
        "model.add(tf.keras.layers.LSTM(50, return_sequences=True, activation='relu' ,input_shape=(60, 1)))\n",
        "model.add(tf.keras.layers.LSTM(50, return_sequences=False,))\n",
        "model.add(tf.keras.layers.Dense(25))\n",
        "model.add(tf.keras.layers.Dense(1))"
      ],
      "execution_count": null,
      "outputs": []
    },
    {
      "cell_type": "code",
      "metadata": {
        "id": "duMz4FMOx_YS"
      },
      "source": [
        "#-------------COMPILE MODEL"
      ],
      "execution_count": null,
      "outputs": []
    },
    {
      "cell_type": "code",
      "metadata": {
        "id": "NeIiEQLxylSV"
      },
      "source": [
        "model.compile(optimizer='adam', loss=tf.keras.losses.MeanSquaredError())"
      ],
      "execution_count": null,
      "outputs": []
    },
    {
      "cell_type": "code",
      "metadata": {
        "id": "h0Y3hMDQy1A1"
      },
      "source": [
        "#-------------TRAIN MODEL"
      ],
      "execution_count": null,
      "outputs": []
    },
    {
      "cell_type": "code",
      "metadata": {
        "id": "UiiGR2Hoy4L8",
        "colab": {
          "base_uri": "https://localhost:8080/"
        },
        "outputId": "2fcd1d9a-84ea-474d-d058-eb7342924059"
      },
      "source": [
        "model.fit(x_train, y_train, batch_size=10, epochs=20)"
      ],
      "execution_count": null,
      "outputs": [
        {
          "output_type": "stream",
          "text": [
            "Epoch 1/20\n",
            "171/171 [==============================] - 8s 32ms/step - loss: 6.5761e-04\n",
            "Epoch 2/20\n",
            "171/171 [==============================] - 5s 32ms/step - loss: 2.9971e-04\n",
            "Epoch 3/20\n",
            "171/171 [==============================] - 5s 32ms/step - loss: 2.9570e-04\n",
            "Epoch 4/20\n",
            "171/171 [==============================] - 5s 32ms/step - loss: 3.0975e-04\n",
            "Epoch 5/20\n",
            "171/171 [==============================] - 5s 32ms/step - loss: 3.1563e-04\n",
            "Epoch 6/20\n",
            "171/171 [==============================] - 5s 32ms/step - loss: 3.4529e-04\n",
            "Epoch 7/20\n",
            "171/171 [==============================] - 6s 32ms/step - loss: 2.7122e-04\n",
            "Epoch 8/20\n",
            "171/171 [==============================] - 5s 32ms/step - loss: 2.7952e-04\n",
            "Epoch 9/20\n",
            "171/171 [==============================] - 5s 32ms/step - loss: 2.7712e-04\n",
            "Epoch 10/20\n",
            "171/171 [==============================] - 5s 32ms/step - loss: 3.7772e-04\n",
            "Epoch 11/20\n",
            "171/171 [==============================] - 5s 32ms/step - loss: 4.7053e-04\n",
            "Epoch 12/20\n",
            "171/171 [==============================] - 6s 32ms/step - loss: 3.0609e-04\n",
            "Epoch 13/20\n",
            "171/171 [==============================] - 6s 33ms/step - loss: 3.0883e-04\n",
            "Epoch 14/20\n",
            "171/171 [==============================] - 6s 32ms/step - loss: 3.0660e-04\n",
            "Epoch 15/20\n",
            "171/171 [==============================] - 6s 32ms/step - loss: 3.2454e-04\n",
            "Epoch 16/20\n",
            "171/171 [==============================] - 5s 32ms/step - loss: 3.3309e-04\n",
            "Epoch 17/20\n",
            "171/171 [==============================] - 6s 33ms/step - loss: 2.6439e-04\n",
            "Epoch 18/20\n",
            "171/171 [==============================] - 6s 32ms/step - loss: 2.7181e-04\n",
            "Epoch 19/20\n",
            "171/171 [==============================] - 6s 32ms/step - loss: 2.3810e-04\n",
            "Epoch 20/20\n",
            "171/171 [==============================] - 6s 32ms/step - loss: 2.6849e-04\n"
          ],
          "name": "stdout"
        },
        {
          "output_type": "execute_result",
          "data": {
            "text/plain": [
              "<tensorflow.python.keras.callbacks.History at 0x7f1979704150>"
            ]
          },
          "metadata": {
            "tags": []
          },
          "execution_count": 62
        }
      ]
    },
    {
      "cell_type": "code",
      "metadata": {
        "colab": {
          "base_uri": "https://localhost:8080/"
        },
        "id": "gfAOrcbe8NKc",
        "outputId": "294f3ef8-a68c-42c5-f317-6d6126c7d0ff"
      },
      "source": [
        "model.summary()"
      ],
      "execution_count": null,
      "outputs": [
        {
          "output_type": "stream",
          "text": [
            "Model: \"sequential\"\n",
            "_________________________________________________________________\n",
            "Layer (type)                 Output Shape              Param #   \n",
            "=================================================================\n",
            "lstm (LSTM)                  (None, 60, 50)            10400     \n",
            "_________________________________________________________________\n",
            "lstm_1 (LSTM)                (None, 50)                20200     \n",
            "_________________________________________________________________\n",
            "dense (Dense)                (None, 25)                1275      \n",
            "_________________________________________________________________\n",
            "dense_1 (Dense)              (None, 1)                 26        \n",
            "=================================================================\n",
            "Total params: 31,901\n",
            "Trainable params: 31,901\n",
            "Non-trainable params: 0\n",
            "_________________________________________________________________\n"
          ],
          "name": "stdout"
        }
      ]
    },
    {
      "cell_type": "code",
      "metadata": {
        "id": "uiy07BIu1srV"
      },
      "source": [
        "#----------CREATE TESTING DATA\n",
        "#----------ARRAY CONTAINING NORMALIZED VALUES FROM 1710 TO 1770"
      ],
      "execution_count": null,
      "outputs": []
    },
    {
      "cell_type": "code",
      "metadata": {
        "id": "-MIkRWcN2FXG"
      },
      "source": [
        "test_df = norm_data[train_c_df_len - 60:, :]"
      ],
      "execution_count": null,
      "outputs": []
    },
    {
      "cell_type": "code",
      "metadata": {
        "id": "AfCuQAe0RpXJ",
        "colab": {
          "base_uri": "https://localhost:8080/"
        },
        "outputId": "cab66aa1-b6ec-494c-d4b1-46aa347919e4"
      },
      "source": [
        "test_df"
      ],
      "execution_count": null,
      "outputs": [
        {
          "output_type": "execute_result",
          "data": {
            "text/plain": [
              "array([[0.29223919],\n",
              "       [0.31616675],\n",
              "       [0.31010914],\n",
              "       [0.30107321],\n",
              "       [0.29885208],\n",
              "       [0.29143151],\n",
              "       [0.28502055],\n",
              "       [0.2813355 ],\n",
              "       [0.28189078],\n",
              "       [0.29410696],\n",
              "       [0.2798211 ],\n",
              "       [0.28093166],\n",
              "       [0.28961423],\n",
              "       [0.29072479],\n",
              "       [0.28835223],\n",
              "       [0.29617664],\n",
              "       [0.30344577],\n",
              "       [0.30561641],\n",
              "       [0.30642409],\n",
              "       [0.29688336],\n",
              "       [0.30294097],\n",
              "       [0.29769104],\n",
              "       [0.30925098],\n",
              "       [0.30874618],\n",
              "       [0.31959939],\n",
              "       [0.32974588],\n",
              "       [0.33403669],\n",
              "       [0.33560157],\n",
              "       [0.32939252],\n",
              "       [0.33206797],\n",
              "       [0.34554614],\n",
              "       [0.36563721],\n",
              "       [0.36043776],\n",
              "       [0.35988248],\n",
              "       [0.36301225],\n",
              "       [0.36089208],\n",
              "       [0.356046  ],\n",
              "       [0.33863037],\n",
              "       [0.34352694],\n",
              "       [0.33847893],\n",
              "       [0.35195711],\n",
              "       [0.34660623],\n",
              "       [0.35180567],\n",
              "       [0.35801472],\n",
              "       [0.3590748 ],\n",
              "       [0.36230553],\n",
              "       [0.36230553],\n",
              "       [0.35851952],\n",
              "       [0.35533928],\n",
              "       [0.35200759],\n",
              "       [0.36149784],\n",
              "       [0.34923119],\n",
              "       [0.35135135],\n",
              "       [0.33721693],\n",
              "       [0.34544518],\n",
              "       [0.35816616],\n",
              "       [0.3722501 ],\n",
              "       [0.36346657],\n",
              "       [0.35155327],\n",
              "       [0.35887288],\n",
              "       [0.35740896],\n",
              "       [0.35927672],\n",
              "       [0.36336561],\n",
              "       [0.37012994],\n",
              "       [0.37260346],\n",
              "       [0.37543034],\n",
              "       [0.39345173],\n",
              "       [0.38956476],\n",
              "       [0.38699028],\n",
              "       [0.39158396],\n",
              "       [0.39012004],\n",
              "       [0.40526406],\n",
              "       [0.4051631 ],\n",
              "       [0.40223526],\n",
              "       [0.40435542],\n",
              "       [0.41753072],\n",
              "       [0.41672304],\n",
              "       [0.41677352],\n",
              "       [0.42409313],\n",
              "       [0.42792961],\n",
              "       [0.41879272],\n",
              "       [0.4198528 ],\n",
              "       [0.41677352],\n",
              "       [0.41286636],\n",
              "       [0.4188432 ],\n",
              "       [0.42459793],\n",
              "       [0.43307858],\n",
              "       [0.42681905],\n",
              "       [0.43043342],\n",
              "       [0.4196004 ],\n",
              "       [0.41566295],\n",
              "       [0.41448172],\n",
              "       [0.42267968],\n",
              "       [0.40786883],\n",
              "       [0.39526901],\n",
              "       [0.39799493],\n",
              "       [0.37962019],\n",
              "       [0.36750497],\n",
              "       [0.35087684],\n",
              "       [0.35185615],\n",
              "       [0.35049319],\n",
              "       [0.36901937],\n",
              "       [0.36992802],\n",
              "       [0.37374431],\n",
              "       [0.38052883],\n",
              "       [0.37558178],\n",
              "       [0.37618754],\n",
              "       [0.38767681],\n",
              "       [0.3985805 ],\n",
              "       [0.40072086],\n",
              "       [0.39133156],\n",
              "       [0.37154338],\n",
              "       [0.36700017],\n",
              "       [0.37031166],\n",
              "       [0.38093267],\n",
              "       [0.38103363],\n",
              "       [0.37041262],\n",
              "       [0.36361801],\n",
              "       [0.38081152],\n",
              "       [0.37493564],\n",
              "       [0.3719977 ],\n",
              "       [0.37320922],\n",
              "       [0.37532938],\n",
              "       [0.38654605],\n",
              "       [0.38623308],\n",
              "       [0.40077134],\n",
              "       [0.4228816 ],\n",
              "       [0.41389615],\n",
              "       [0.42884835],\n",
              "       [0.42580945],\n",
              "       [0.42106432],\n",
              "       [0.4213672 ],\n",
              "       [0.41944896],\n",
              "       [0.40092278],\n",
              "       [0.40672798],\n",
              "       [0.40733374],\n",
              "       [0.41056447],\n",
              "       [0.39565266],\n",
              "       [0.41076639],\n",
              "       [0.43570354],\n",
              "       [0.44448707],\n",
              "       [0.44701108],\n",
              "       [0.45135236],\n",
              "       [0.44065059],\n",
              "       [0.44236691],\n",
              "       [0.46397238],\n",
              "       [0.46205413],\n",
              "       [0.46228634],\n",
              "       [0.47598663],\n",
              "       [0.46457814],\n",
              "       [0.46599158],\n",
              "       [0.47356359],\n",
              "       [0.47169583],\n",
              "       [0.47331119],\n",
              "       [0.45897485],\n",
              "       [0.45665277],\n",
              "       [0.46311422],\n",
              "       [0.47568375],\n",
              "       [0.48133752],\n",
              "       [0.48577977],\n",
              "       [0.4996113 ],\n",
              "       [0.5006209 ],\n",
              "       [0.49592626],\n",
              "       [0.5110198 ],\n",
              "       [0.50647659],\n",
              "       [0.51927834],\n",
              "       [0.52141869],\n",
              "       [0.51273612],\n",
              "       [0.52162061],\n",
              "       [0.52121677],\n",
              "       [0.52343789],\n",
              "       [0.51414956],\n",
              "       [0.48759705],\n",
              "       [0.47916688],\n",
              "       [0.47982312],\n",
              "       [0.50142859],\n",
              "       [0.50385163],\n",
              "       [0.49203929],\n",
              "       [0.48022696],\n",
              "       [0.47679431],\n",
              "       [0.48355864],\n",
              "       [0.49930842],\n",
              "       [0.48991913],\n",
              "       [0.48981817],\n",
              "       [0.48073176],\n",
              "       [0.49092873],\n",
              "       [0.48567881],\n",
              "       [0.45650133],\n",
              "       [0.47931832],\n",
              "       [0.47568375],\n",
              "       [0.46790982],\n",
              "       [0.45640037],\n",
              "       [0.4841644 ],\n",
              "       [0.47457319],\n",
              "       [0.49163545],\n",
              "       [0.49991418],\n",
              "       [0.50440691],\n",
              "       [0.51869277],\n",
              "       [0.50021706],\n",
              "       [0.50415451],\n",
              "       [0.50809195],\n",
              "       [0.50183243],\n",
              "       [0.49752143],\n",
              "       [0.50819291],\n",
              "       [0.5160678 ],\n",
              "       [0.4672031 ],\n",
              "       [0.47002999],\n",
              "       [0.47437127],\n",
              "       [0.44529475],\n",
              "       [0.44186211],\n",
              "       [0.45609749],\n",
              "       [0.45145332],\n",
              "       [0.45569365],\n",
              "       [0.45528981],\n",
              "       [0.46225606],\n",
              "       [0.4661935 ],\n",
              "       [0.46932326],\n",
              "       [0.46942422],\n",
              "       [0.47533039],\n",
              "       [0.46649638],\n",
              "       [0.4512514 ],\n",
              "       [0.45963109],\n",
              "       [0.45945946],\n",
              "       [0.4624075 ],\n",
              "       [0.47098911],\n",
              "       [0.44791972],\n",
              "       [0.44539571],\n",
              "       [0.45539077],\n",
              "       [0.4537754 ],\n",
              "       [0.44761684],\n",
              "       [0.43317954],\n",
              "       [0.43943907],\n",
              "       [0.44357843],\n",
              "       [0.44781876],\n",
              "       [0.45357348],\n",
              "       [0.47487607],\n",
              "       [0.47346263],\n",
              "       [0.48237741],\n",
              "       [0.48921241],\n",
              "       [0.48507304],\n",
              "       [0.49956082],\n",
              "       [0.50334683],\n",
              "       [0.5031752 ],\n",
              "       [0.50654726],\n",
              "       [0.50415451],\n",
              "       [0.49698634],\n",
              "       [0.49203929],\n",
              "       [0.4965825 ],\n",
              "       [0.49991418],\n",
              "       [0.52101485],\n",
              "       [0.52363981],\n",
              "       [0.51011116],\n",
              "       [0.50708235],\n",
              "       [0.50536603],\n",
              "       [0.51495724],\n",
              "       [0.52000525],\n",
              "       [0.51243324],\n",
              "       [0.513039  ],\n",
              "       [0.54100496],\n",
              "       [0.54211552],\n",
              "       [0.543428  ],\n",
              "       [0.5439328 ],\n",
              "       [0.55564418],\n",
              "       [0.57674484],\n",
              "       [0.57361508],\n",
              "       [0.58663894],\n",
              "       [0.57553332],\n",
              "       [0.56695171],\n",
              "       [0.56523539],\n",
              "       [0.57523044],\n",
              "       [0.55100001],\n",
              "       [0.52937435],\n",
              "       [0.53181759],\n",
              "       [0.53464447],\n",
              "       [0.54272128],\n",
              "       [0.52998011],\n",
              "       [0.51960141],\n",
              "       [0.5264667 ],\n",
              "       [0.52727438],\n",
              "       [0.48759705],\n",
              "       [0.48285192],\n",
              "       [0.49193833],\n",
              "       [0.50313481],\n",
              "       [0.49461378],\n",
              "       [0.48557785],\n",
              "       [0.47204919],\n",
              "       [0.45337156],\n",
              "       [0.45135236],\n",
              "       [0.45256388],\n",
              "       [0.44277075],\n",
              "       [0.44559763],\n",
              "       [0.43489586],\n",
              "       [0.421872  ],\n",
              "       [0.41611728],\n",
              "       [0.37744955],\n",
              "       [0.38399176],\n",
              "       [0.39168492],\n",
              "       [0.39531949],\n",
              "       [0.39451181],\n",
              "       [0.34857495],\n",
              "       [0.35988248],\n",
              "       [0.34988743],\n",
              "       [0.31621723],\n",
              "       [0.3302002 ],\n",
              "       [0.33292613],\n",
              "       [0.31162354],\n",
              "       [0.31975083],\n",
              "       [0.31556098],\n",
              "       [0.34302214],\n",
              "       [0.33827701],\n",
              "       [0.34090198],\n",
              "       [0.3271714 ],\n",
              "       [0.33767125],\n",
              "       [0.32343588],\n",
              "       [0.32959444],\n",
              "       [0.32686852],\n",
              "       [0.34130582],\n",
              "       [0.32737332],\n",
              "       [0.31195671],\n",
              "       [0.2843643 ],\n",
              "       [0.28931135],\n",
              "       [0.27154237],\n",
              "       [0.25892235],\n",
              "       [0.22863431],\n",
              "       [0.27351109],\n",
              "       [0.2464033 ],\n",
              "       [0.25417723],\n",
              "       [0.26221365],\n",
              "       [0.27174429],\n",
              "       [0.28012398],\n",
              "       [0.29852901],\n",
              "       [0.30051793],\n",
              "       [0.31091682],\n",
              "       [0.33757029],\n",
              "       [0.33696453],\n",
              "       [0.32989732],\n",
              "       [0.31707539],\n",
              "       [0.33007905],\n",
              "       [0.33787317],\n",
              "       [0.33645973],\n",
              "       [0.35079607],\n",
              "       [0.35301719],\n",
              "       [0.33979142],\n",
              "       [0.33393573],\n",
              "       [0.33595493],\n",
              "       [0.33979142],\n",
              "       [0.32444548],\n",
              "       [0.33701501],\n",
              "       [0.34226494],\n",
              "       [0.33595493],\n",
              "       [0.35342103],\n",
              "       [0.35220951],\n",
              "       [0.34494038],\n",
              "       [0.35069511],\n",
              "       [0.3411039 ],\n",
              "       [0.34534422],\n",
              "       [0.34039718],\n",
              "       [0.35059415],\n",
              "       [0.3615988 ],\n",
              "       [0.37108906],\n",
              "       [0.38868641],\n",
              "       [0.38976668],\n",
              "       [0.38966572],\n",
              "       [0.39643005],\n",
              "       [0.39481469],\n",
              "       [0.39430989],\n",
              "       [0.37270442],\n",
              "       [0.38168987],\n",
              "       [0.3894638 ],\n",
              "       [0.3892114 ],\n",
              "       [0.37411786],\n",
              "       [0.38128603],\n",
              "       [0.38138699],\n",
              "       [0.38421387],\n",
              "       [0.38522348],\n",
              "       [0.38202304],\n",
              "       [0.39118012],\n",
              "       [0.39350221],\n",
              "       [0.40198286],\n",
              "       [0.39713677],\n",
              "       [0.39562237],\n",
              "       [0.39966077],\n",
              "       [0.40208382],\n",
              "       [0.40783854],\n",
              "       [0.40208382],\n",
              "       [0.39512766],\n",
              "       [0.39774253],\n",
              "       [0.40551646],\n",
              "       [0.40354774],\n",
              "       [0.40369918],\n",
              "       [0.4013771 ],\n",
              "       [0.4173288 ],\n",
              "       [0.4198528 ],\n",
              "       [0.42005472],\n",
              "       [0.41803552],\n",
              "       [0.42954497],\n",
              "       [0.43641026],\n",
              "       [0.43338146],\n",
              "       [0.44155923],\n",
              "       [0.43519874],\n",
              "       [0.44085251],\n",
              "       [0.43822754],\n",
              "       [0.44438611],\n",
              "       [0.44186211],\n",
              "       [0.44529475],\n",
              "       [0.4672031 ],\n",
              "       [0.47002999],\n",
              "       [0.47124151],\n",
              "       [0.46891942],\n",
              "       [0.44166019],\n",
              "       [0.44549667],\n",
              "       [0.44226595],\n",
              "       [0.44711204],\n",
              "       [0.42914113],\n",
              "       [0.43368434],\n",
              "       [0.43943907],\n",
              "       [0.42328544],\n",
              "       [0.42792961],\n",
              "       [0.42782865],\n",
              "       [0.43317954],\n",
              "       [0.42479985],\n",
              "       [0.43439106],\n",
              "       [0.44489091],\n",
              "       [0.4537754 ],\n",
              "       [0.44670819],\n",
              "       [0.44650627],\n",
              "       [0.44600147],\n",
              "       [0.43388626],\n",
              "       [0.40480974],\n",
              "       [0.41773264],\n",
              "       [0.42570849],\n",
              "       [0.42671809],\n",
              "       [0.42232632],\n",
              "       [0.39213924],\n",
              "       [0.34170966],\n",
              "       [0.33272421],\n",
              "       [0.33928662],\n",
              "       [0.33040212],\n",
              "       [0.34776727],\n",
              "       [0.35786328],\n",
              "       [0.34857495],\n",
              "       [0.3456471 ],\n",
              "       [0.32303203],\n",
              "       [0.33787317],\n",
              "       [0.34534422],\n",
              "       [0.33454149],\n",
              "       [0.34736343],\n",
              "       [0.34706055],\n",
              "       [0.37038234],\n",
              "       [0.37805531],\n",
              "       [0.37280538],\n",
              "       [0.38330523],\n",
              "       [0.38754556],\n",
              "       [0.39057436],\n",
              "       [0.36917081],\n",
              "       [0.37724762],\n",
              "       [0.35089703],\n",
              "       [0.36392089],\n",
              "       [0.35665176],\n",
              "       [0.36927177],\n",
              "       [0.36442569],\n",
              "       [0.3699785 ],\n",
              "       [0.39128108],\n",
              "       [0.39259356],\n",
              "       [0.39420893],\n",
              "       [0.3869398 ],\n",
              "       [0.36806025],\n",
              "       [0.36028632],\n",
              "       [0.34938263],\n",
              "       [0.35301719],\n",
              "       [0.35836808],\n",
              "       [0.36694969],\n",
              "       [0.35634888],\n",
              "       [0.35594504],\n",
              "       [0.35799453],\n",
              "       [0.36346657],\n",
              "       [0.37108906],\n",
              "       [0.36745449],\n",
              "       [0.33545013],\n",
              "       [0.33751981],\n",
              "       [0.3251522 ],\n",
              "       [0.31142162],\n",
              "       [0.29799392],\n",
              "       [0.30172945],\n",
              "       [0.30695918],\n",
              "       [0.30889762],\n",
              "       [0.33383477],\n",
              "       [0.31515714],\n",
              "       [0.30798898],\n",
              "       [0.31111874],\n",
              "       [0.32232531],\n",
              "       [0.32553585],\n",
              "       [0.32828196],\n",
              "       [0.32474836],\n",
              "       [0.31586387],\n",
              "       [0.31263314],\n",
              "       [0.32595988],\n",
              "       [0.3291906 ],\n",
              "       [0.33545013],\n",
              "       [0.31515714],\n",
              "       [0.31051298],\n",
              "       [0.30647457]])"
            ]
          },
          "metadata": {
            "tags": []
          },
          "execution_count": 30
        }
      ]
    },
    {
      "cell_type": "code",
      "metadata": {
        "id": "VR8FEEnE2eMH"
      },
      "source": [
        "#-------------CREATE X-TEST Y-TEST"
      ],
      "execution_count": null,
      "outputs": []
    },
    {
      "cell_type": "code",
      "metadata": {
        "id": "5Di1l5TP2kqv"
      },
      "source": [
        "x_test = []\n",
        "y_test = data[train_c_df_len:, :]\n",
        "for i in range (60, len(test_df)):\n",
        "  x_test.append(test_df[i-60:i, 0])"
      ],
      "execution_count": null,
      "outputs": []
    },
    {
      "cell_type": "code",
      "metadata": {
        "id": "tOpvqFbXNBVG"
      },
      "source": [
        "#-----------CONVERT TO NP ARRAY\n",
        "x_test = np.array(x_test)"
      ],
      "execution_count": null,
      "outputs": []
    },
    {
      "cell_type": "code",
      "metadata": {
        "id": "PP_AlZVM3goE"
      },
      "source": [
        "#---------------RESHAPE THE DATA\n",
        "x_test = np.reshape(x_test, (x_test.shape[0],x_test.shape[1] , 1))"
      ],
      "execution_count": null,
      "outputs": []
    },
    {
      "cell_type": "code",
      "metadata": {
        "id": "jdflenQZNJKj",
        "colab": {
          "base_uri": "https://localhost:8080/"
        },
        "outputId": "4cad7fe5-755f-4490-9c54-b9eb5099750f"
      },
      "source": [
        "x_test"
      ],
      "execution_count": null,
      "outputs": [
        {
          "output_type": "execute_result",
          "data": {
            "text/plain": [
              "array([[[0.29223919],\n",
              "        [0.31616675],\n",
              "        [0.31010914],\n",
              "        ...,\n",
              "        [0.36346657],\n",
              "        [0.35155327],\n",
              "        [0.35887288]],\n",
              "\n",
              "       [[0.31616675],\n",
              "        [0.31010914],\n",
              "        [0.30107321],\n",
              "        ...,\n",
              "        [0.35155327],\n",
              "        [0.35887288],\n",
              "        [0.35740896]],\n",
              "\n",
              "       [[0.31010914],\n",
              "        [0.30107321],\n",
              "        [0.29885208],\n",
              "        ...,\n",
              "        [0.35887288],\n",
              "        [0.35740896],\n",
              "        [0.35927672]],\n",
              "\n",
              "       ...,\n",
              "\n",
              "       [[0.35786328],\n",
              "        [0.34857495],\n",
              "        [0.3456471 ],\n",
              "        ...,\n",
              "        [0.32595988],\n",
              "        [0.3291906 ],\n",
              "        [0.33545013]],\n",
              "\n",
              "       [[0.34857495],\n",
              "        [0.3456471 ],\n",
              "        [0.32303203],\n",
              "        ...,\n",
              "        [0.3291906 ],\n",
              "        [0.33545013],\n",
              "        [0.31515714]],\n",
              "\n",
              "       [[0.3456471 ],\n",
              "        [0.32303203],\n",
              "        [0.33787317],\n",
              "        ...,\n",
              "        [0.33545013],\n",
              "        [0.31515714],\n",
              "        [0.31051298]]])"
            ]
          },
          "metadata": {
            "tags": []
          },
          "execution_count": 35
        }
      ]
    },
    {
      "cell_type": "code",
      "metadata": {
        "id": "-DAIt8ti5q3d"
      },
      "source": [
        "#------------GET THE MODELS PREDICTED PRICE VALUE"
      ],
      "execution_count": null,
      "outputs": []
    },
    {
      "cell_type": "code",
      "metadata": {
        "id": "WWG1FqPs6gcW"
      },
      "source": [
        "predictions = model.predict(x_test)\n",
        "predictions = norm.inverse_transform(predictions)"
      ],
      "execution_count": null,
      "outputs": []
    },
    {
      "cell_type": "code",
      "metadata": {
        "id": "jyCXJEPuXS_a"
      },
      "source": [
        "#---------GET ROOT MEAN SQUARED ERROR"
      ],
      "execution_count": null,
      "outputs": []
    },
    {
      "cell_type": "code",
      "metadata": {
        "id": "tWpA104WNXEs",
        "colab": {
          "base_uri": "https://localhost:8080/"
        },
        "outputId": "5d998d45-f4f4-4717-9440-923c1a05f64f"
      },
      "source": [
        "rmse = np.sqrt((predictions - y_test)**2).mean()\n",
        "print(rmse)"
      ],
      "execution_count": null,
      "outputs": [
        {
          "output_type": "stream",
          "text": [
            "1.092969922441163\n"
          ],
          "name": "stdout"
        }
      ]
    },
    {
      "cell_type": "code",
      "metadata": {
        "id": "IhEXWHumZcb0",
        "colab": {
          "base_uri": "https://localhost:8080/",
          "height": 462
        },
        "outputId": "04392f0a-6a93-4e2f-b412-c5f83657e03d"
      },
      "source": [
        "#plot the data\n",
        "train = c_df[:train_c_df_len]\n",
        "valid = c_df[train_c_df_len:]\n",
        "valid['Predictions'] = predictions\n",
        "\n",
        "plt.figure(figsize=(16,8))\n",
        "plt.title('Model')\n",
        "plt.xlabel('Days')\n",
        "plt.ylabel('Close Price')\n",
        "plt.plot(train['Close'])\n",
        "plt.plot(valid[['Close', 'Predictions']])\n",
        "plt.legend(['Train', 'Val', 'predictions'], loc='lower right')\n",
        "plt.show()"
      ],
      "execution_count": null,
      "outputs": [
        {
          "output_type": "stream",
          "text": [
            "/usr/local/lib/python3.7/dist-packages/ipykernel_launcher.py:4: SettingWithCopyWarning: \n",
            "A value is trying to be set on a copy of a slice from a DataFrame.\n",
            "Try using .loc[row_indexer,col_indexer] = value instead\n",
            "\n",
            "See the caveats in the documentation: https://pandas.pydata.org/pandas-docs/stable/user_guide/indexing.html#returning-a-view-versus-a-copy\n",
            "  after removing the cwd from sys.path.\n"
          ],
          "name": "stderr"
        },
        {
          "output_type": "display_data",
          "data": {
            "image/png": "[encoded data removed]",
            "text/plain": [
              "<Figure size 1152x576 with 1 Axes>"
            ]
          },
          "metadata": {
            "tags": []
          }
        }
      ]
    },
    {
      "cell_type": "code",
      "metadata": {
        "id": "TGz4ajzpc2n7",
        "colab": {
          "base_uri": "https://localhost:8080/",
          "height": 406
        },
        "outputId": "7c6bfd6e-23fa-4925-ae85-7b217f34ae7d"
      },
      "source": [
        "#show the valid predicted prices\n",
        "valid"
      ],
      "execution_count": null,
      "outputs": [
        {
          "output_type": "execute_result",
          "data": {
            "text/html": [
              "<div>\n",
              "<style scoped>\n",
              "    .dataframe tbody tr th:only-of-type {\n",
              "        vertical-align: middle;\n",
              "    }\n",
              "\n",
              "    .dataframe tbody tr th {\n",
              "        vertical-align: top;\n",
              "    }\n",
              "\n",
              "    .dataframe thead th {\n",
              "        text-align: right;\n",
              "    }\n",
              "</style>\n",
              "<table border=\"1\" class=\"dataframe\">\n",
              "  <thead>\n",
              "    <tr style=\"text-align: right;\">\n",
              "      <th></th>\n",
              "      <th>Close</th>\n",
              "      <th>Predictions</th>\n",
              "    </tr>\n",
              "  </thead>\n",
              "  <tbody>\n",
              "    <tr>\n",
              "      <th>1770</th>\n",
              "      <td>63.220</td>\n",
              "      <td>64.139465</td>\n",
              "    </tr>\n",
              "    <tr>\n",
              "      <th>1771</th>\n",
              "      <td>63.405</td>\n",
              "      <td>64.010071</td>\n",
              "    </tr>\n",
              "    <tr>\n",
              "      <th>1772</th>\n",
              "      <td>63.810</td>\n",
              "      <td>64.023026</td>\n",
              "    </tr>\n",
              "    <tr>\n",
              "      <th>1773</th>\n",
              "      <td>64.480</td>\n",
              "      <td>64.245049</td>\n",
              "    </tr>\n",
              "    <tr>\n",
              "      <th>1774</th>\n",
              "      <td>64.725</td>\n",
              "      <td>64.726593</td>\n",
              "    </tr>\n",
              "    <tr>\n",
              "      <th>...</th>\n",
              "      <td>...</td>\n",
              "      <td>...</td>\n",
              "    </tr>\n",
              "    <tr>\n",
              "      <th>2207</th>\n",
              "      <td>60.425</td>\n",
              "      <td>60.282677</td>\n",
              "    </tr>\n",
              "    <tr>\n",
              "      <th>2208</th>\n",
              "      <td>61.045</td>\n",
              "      <td>60.731606</td>\n",
              "    </tr>\n",
              "    <tr>\n",
              "      <th>2209</th>\n",
              "      <td>59.035</td>\n",
              "      <td>61.337021</td>\n",
              "    </tr>\n",
              "    <tr>\n",
              "      <th>2210</th>\n",
              "      <td>58.575</td>\n",
              "      <td>60.857006</td>\n",
              "    </tr>\n",
              "    <tr>\n",
              "      <th>2211</th>\n",
              "      <td>58.175</td>\n",
              "      <td>60.093010</td>\n",
              "    </tr>\n",
              "  </tbody>\n",
              "</table>\n",
              "<p>442 rows × 2 columns</p>\n",
              "</div>"
            ],
            "text/plain": [
              "       Close  Predictions\n",
              "1770  63.220    64.139465\n",
              "1771  63.405    64.010071\n",
              "1772  63.810    64.023026\n",
              "1773  64.480    64.245049\n",
              "1774  64.725    64.726593\n",
              "...      ...          ...\n",
              "2207  60.425    60.282677\n",
              "2208  61.045    60.731606\n",
              "2209  59.035    61.337021\n",
              "2210  58.575    60.857006\n",
              "2211  58.175    60.093010\n",
              "\n",
              "[442 rows x 2 columns]"
            ]
          },
          "metadata": {
            "tags": []
          },
          "execution_count": 41
        }
      ]
    },
    {
      "cell_type": "code",
      "metadata": {
        "id": "DxkqCnmOc_ph"
      },
      "source": [
        "quote= pd.read_csv('/content/drive/MyDrive/Colab Notebooks/BRENToil.csv')"
      ],
      "execution_count": null,
      "outputs": []
    },
    {
      "cell_type": "code",
      "metadata": {
        "id": "rSyJA4HfdfkB"
      },
      "source": [
        "new_df = quote.filter(['Close'])"
      ],
      "execution_count": null,
      "outputs": []
    },
    {
      "cell_type": "code",
      "metadata": {
        "id": "5zoYJUa5fNuS",
        "colab": {
          "base_uri": "https://localhost:8080/",
          "height": 406
        },
        "outputId": "8fad2de3-c75c-422e-c514-f490c67752d7"
      },
      "source": [
        "\n",
        "new_df"
      ],
      "execution_count": null,
      "outputs": [
        {
          "output_type": "execute_result",
          "data": {
            "text/html": [
              "<div>\n",
              "<style scoped>\n",
              "    .dataframe tbody tr th:only-of-type {\n",
              "        vertical-align: middle;\n",
              "    }\n",
              "\n",
              "    .dataframe tbody tr th {\n",
              "        vertical-align: top;\n",
              "    }\n",
              "\n",
              "    .dataframe thead th {\n",
              "        text-align: right;\n",
              "    }\n",
              "</style>\n",
              "<table border=\"1\" class=\"dataframe\">\n",
              "  <thead>\n",
              "    <tr style=\"text-align: right;\">\n",
              "      <th></th>\n",
              "      <th>Close</th>\n",
              "    </tr>\n",
              "  </thead>\n",
              "  <tbody>\n",
              "    <tr>\n",
              "      <th>0</th>\n",
              "      <td>90.680</td>\n",
              "    </tr>\n",
              "    <tr>\n",
              "      <th>1</th>\n",
              "      <td>91.565</td>\n",
              "    </tr>\n",
              "    <tr>\n",
              "      <th>2</th>\n",
              "      <td>90.968</td>\n",
              "    </tr>\n",
              "    <tr>\n",
              "      <th>3</th>\n",
              "      <td>90.868</td>\n",
              "    </tr>\n",
              "    <tr>\n",
              "      <th>4</th>\n",
              "      <td>90.991</td>\n",
              "    </tr>\n",
              "    <tr>\n",
              "      <th>...</th>\n",
              "      <td>...</td>\n",
              "    </tr>\n",
              "    <tr>\n",
              "      <th>2207</th>\n",
              "      <td>60.425</td>\n",
              "    </tr>\n",
              "    <tr>\n",
              "      <th>2208</th>\n",
              "      <td>61.045</td>\n",
              "    </tr>\n",
              "    <tr>\n",
              "      <th>2209</th>\n",
              "      <td>59.035</td>\n",
              "    </tr>\n",
              "    <tr>\n",
              "      <th>2210</th>\n",
              "      <td>58.575</td>\n",
              "    </tr>\n",
              "    <tr>\n",
              "      <th>2211</th>\n",
              "      <td>58.175</td>\n",
              "    </tr>\n",
              "  </tbody>\n",
              "</table>\n",
              "<p>2212 rows × 1 columns</p>\n",
              "</div>"
            ],
            "text/plain": [
              "       Close\n",
              "0     90.680\n",
              "1     91.565\n",
              "2     90.968\n",
              "3     90.868\n",
              "4     90.991\n",
              "...      ...\n",
              "2207  60.425\n",
              "2208  61.045\n",
              "2209  59.035\n",
              "2210  58.575\n",
              "2211  58.175\n",
              "\n",
              "[2212 rows x 1 columns]"
            ]
          },
          "metadata": {
            "tags": []
          },
          "execution_count": 44
        }
      ]
    },
    {
      "cell_type": "code",
      "metadata": {
        "id": "g99xWYtsdsH0"
      },
      "source": [
        "last_100_days = new_df[-100:].values"
      ],
      "execution_count": null,
      "outputs": []
    },
    {
      "cell_type": "code",
      "metadata": {
        "id": "UG0Jnlh6fGd2",
        "colab": {
          "base_uri": "https://localhost:8080/"
        },
        "outputId": "587344c0-a825-4762-af04-827a6b07013d"
      },
      "source": [
        "last_100_days"
      ],
      "execution_count": null,
      "outputs": [
        {
          "output_type": "execute_result",
          "data": {
            "text/plain": [
              "array([[71.835],\n",
              "       [71.585],\n",
              "       [71.925],\n",
              "       [74.095],\n",
              "       [74.375],\n",
              "       [74.495],\n",
              "       [74.265],\n",
              "       [71.565],\n",
              "       [71.945],\n",
              "       [71.625],\n",
              "       [72.105],\n",
              "       [70.325],\n",
              "       [70.775],\n",
              "       [71.345],\n",
              "       [69.745],\n",
              "       [70.205],\n",
              "       [70.195],\n",
              "       [70.725],\n",
              "       [69.895],\n",
              "       [70.845],\n",
              "       [71.885],\n",
              "       [72.765],\n",
              "       [72.065],\n",
              "       [72.045],\n",
              "       [71.995],\n",
              "       [70.795],\n",
              "       [67.915],\n",
              "       [69.195],\n",
              "       [69.985],\n",
              "       [70.085],\n",
              "       [69.65 ],\n",
              "       [66.66 ],\n",
              "       [61.665],\n",
              "       [60.775],\n",
              "       [61.425],\n",
              "       [60.545],\n",
              "       [62.265],\n",
              "       [63.265],\n",
              "       [62.345],\n",
              "       [62.055],\n",
              "       [59.815],\n",
              "       [61.285],\n",
              "       [62.025],\n",
              "       [60.955],\n",
              "       [62.225],\n",
              "       [62.195],\n",
              "       [64.505],\n",
              "       [65.265],\n",
              "       [64.745],\n",
              "       [65.785],\n",
              "       [66.205],\n",
              "       [66.505],\n",
              "       [64.385],\n",
              "       [65.185],\n",
              "       [62.575],\n",
              "       [63.865],\n",
              "       [63.145],\n",
              "       [64.395],\n",
              "       [63.915],\n",
              "       [64.465],\n",
              "       [66.575],\n",
              "       [66.705],\n",
              "       [66.865],\n",
              "       [66.145],\n",
              "       [64.275],\n",
              "       [63.505],\n",
              "       [62.425],\n",
              "       [62.785],\n",
              "       [63.315],\n",
              "       [64.165],\n",
              "       [63.115],\n",
              "       [63.075],\n",
              "       [63.278],\n",
              "       [63.82 ],\n",
              "       [64.575],\n",
              "       [64.215],\n",
              "       [61.045],\n",
              "       [61.25 ],\n",
              "       [60.025],\n",
              "       [58.665],\n",
              "       [57.335],\n",
              "       [57.705],\n",
              "       [58.223],\n",
              "       [58.415],\n",
              "       [60.885],\n",
              "       [59.035],\n",
              "       [58.325],\n",
              "       [58.635],\n",
              "       [59.745],\n",
              "       [60.063],\n",
              "       [60.335],\n",
              "       [59.985],\n",
              "       [59.105],\n",
              "       [58.785],\n",
              "       [60.105],\n",
              "       [60.425],\n",
              "       [61.045],\n",
              "       [59.035],\n",
              "       [58.575],\n",
              "       [58.175]])"
            ]
          },
          "metadata": {
            "tags": []
          },
          "execution_count": 46
        }
      ]
    },
    {
      "cell_type": "code",
      "metadata": {
        "id": "95sQUpdBd6S-",
        "colab": {
          "base_uri": "https://localhost:8080/"
        },
        "outputId": "8d2e006a-694b-4440-e28b-d988992f48ab"
      },
      "source": [
        "last_100_days_norm = norm.transform(last_100_days)\n",
        "X_test = []\n",
        "X_test.append(last_100_days_norm)\n",
        "X_test = np.array(X_test)\n",
        "X_test = np.reshape(X_test, (X_test.shape[0], X_test.shape[1], 1))\n",
        "pred_price = model.predict(X_test)\n",
        "\n",
        "pred_price = norm.inverse_transform(pred_price)\n",
        "print(pred_price)"
      ],
      "execution_count": null,
      "outputs": [
        {
          "output_type": "stream",
          "text": [
            "WARNING:tensorflow:Model was constructed with shape (None, 60, 1) for input KerasTensor(type_spec=TensorSpec(shape=(None, 60, 1), dtype=tf.float32, name='lstm_input'), name='lstm_input', description=\"created by layer 'lstm_input'\"), but it was called on an input with incompatible shape (None, 100, 1).\n",
            "[[59.384132]]\n"
          ],
          "name": "stdout"
        }
      ]
    },
    {
      "cell_type": "code",
      "metadata": {
        "colab": {
          "base_uri": "https://localhost:8080/",
          "height": 77
        },
        "id": "OxJTByQgPZLh",
        "outputId": "2f0615e2-10d4-4b11-d499-dca89ebdab88"
      },
      "source": [
        "pred = pd.DataFrame(pred_price, columns = ['Close'])\n",
        "pred"
      ],
      "execution_count": null,
      "outputs": [
        {
          "output_type": "execute_result",
          "data": {
            "text/html": [
              "<div>\n",
              "<style scoped>\n",
              "    .dataframe tbody tr th:only-of-type {\n",
              "        vertical-align: middle;\n",
              "    }\n",
              "\n",
              "    .dataframe tbody tr th {\n",
              "        vertical-align: top;\n",
              "    }\n",
              "\n",
              "    .dataframe thead th {\n",
              "        text-align: right;\n",
              "    }\n",
              "</style>\n",
              "<table border=\"1\" class=\"dataframe\">\n",
              "  <thead>\n",
              "    <tr style=\"text-align: right;\">\n",
              "      <th></th>\n",
              "      <th>Close</th>\n",
              "    </tr>\n",
              "  </thead>\n",
              "  <tbody>\n",
              "    <tr>\n",
              "      <th>0</th>\n",
              "      <td>59.384132</td>\n",
              "    </tr>\n",
              "  </tbody>\n",
              "</table>\n",
              "</div>"
            ],
            "text/plain": [
              "       Close\n",
              "0  59.384132"
            ]
          },
          "metadata": {
            "tags": []
          },
          "execution_count": 48
        }
      ]
    },
    {
      "cell_type": "code",
      "metadata": {
        "colab": {
          "base_uri": "https://localhost:8080/",
          "height": 406
        },
        "id": "QZdI31oOQZIB",
        "outputId": "2ce0a373-0ee5-4726-e4de-32be42e6a511"
      },
      "source": [
        "new_df1 = new_df.append(pred, ignore_index=True)\n",
        "new_df1"
      ],
      "execution_count": null,
      "outputs": [
        {
          "output_type": "execute_result",
          "data": {
            "text/html": [
              "<div>\n",
              "<style scoped>\n",
              "    .dataframe tbody tr th:only-of-type {\n",
              "        vertical-align: middle;\n",
              "    }\n",
              "\n",
              "    .dataframe tbody tr th {\n",
              "        vertical-align: top;\n",
              "    }\n",
              "\n",
              "    .dataframe thead th {\n",
              "        text-align: right;\n",
              "    }\n",
              "</style>\n",
              "<table border=\"1\" class=\"dataframe\">\n",
              "  <thead>\n",
              "    <tr style=\"text-align: right;\">\n",
              "      <th></th>\n",
              "      <th>Close</th>\n",
              "    </tr>\n",
              "  </thead>\n",
              "  <tbody>\n",
              "    <tr>\n",
              "      <th>0</th>\n",
              "      <td>90.680000</td>\n",
              "    </tr>\n",
              "    <tr>\n",
              "      <th>1</th>\n",
              "      <td>91.565000</td>\n",
              "    </tr>\n",
              "    <tr>\n",
              "      <th>2</th>\n",
              "      <td>90.968000</td>\n",
              "    </tr>\n",
              "    <tr>\n",
              "      <th>3</th>\n",
              "      <td>90.868000</td>\n",
              "    </tr>\n",
              "    <tr>\n",
              "      <th>4</th>\n",
              "      <td>90.991000</td>\n",
              "    </tr>\n",
              "    <tr>\n",
              "      <th>...</th>\n",
              "      <td>...</td>\n",
              "    </tr>\n",
              "    <tr>\n",
              "      <th>2208</th>\n",
              "      <td>61.045000</td>\n",
              "    </tr>\n",
              "    <tr>\n",
              "      <th>2209</th>\n",
              "      <td>59.035000</td>\n",
              "    </tr>\n",
              "    <tr>\n",
              "      <th>2210</th>\n",
              "      <td>58.575000</td>\n",
              "    </tr>\n",
              "    <tr>\n",
              "      <th>2211</th>\n",
              "      <td>58.175000</td>\n",
              "    </tr>\n",
              "    <tr>\n",
              "      <th>2212</th>\n",
              "      <td>59.384132</td>\n",
              "    </tr>\n",
              "  </tbody>\n",
              "</table>\n",
              "<p>2213 rows × 1 columns</p>\n",
              "</div>"
            ],
            "text/plain": [
              "          Close\n",
              "0     90.680000\n",
              "1     91.565000\n",
              "2     90.968000\n",
              "3     90.868000\n",
              "4     90.991000\n",
              "...         ...\n",
              "2208  61.045000\n",
              "2209  59.035000\n",
              "2210  58.575000\n",
              "2211  58.175000\n",
              "2212  59.384132\n",
              "\n",
              "[2213 rows x 1 columns]"
            ]
          },
          "metadata": {
            "tags": []
          },
          "execution_count": 49
        }
      ]
    },
    {
      "cell_type": "code",
      "metadata": {
        "colab": {
          "base_uri": "https://localhost:8080/"
        },
        "id": "A19mvuKJS_Yv",
        "outputId": "160ca42e-1f03-4927-b9fc-af6d873eab8f"
      },
      "source": [
        "last_100_days = new_df1[-100:].values\n",
        "last_100_days_norm = norm.transform(last_100_days)\n",
        "X_test = []\n",
        "X_test.append(last_100_days_norm)\n",
        "X_test = np.array(X_test)\n",
        "X_test = np.reshape(X_test, (X_test.shape[0], X_test.shape[1], 1))\n",
        "pred_price1 = model.predict(X_test)\n",
        "\n",
        "pred_price1 = norm.inverse_transform(pred_price1)\n",
        "print(pred_price1)"
      ],
      "execution_count": null,
      "outputs": [
        {
          "output_type": "stream",
          "text": [
            "[[59.506382]]\n"
          ],
          "name": "stdout"
        }
      ]
    },
    {
      "cell_type": "code",
      "metadata": {
        "colab": {
          "base_uri": "https://localhost:8080/"
        },
        "id": "WwZ4NK_9TNKI",
        "outputId": "bfca26d9-51b9-499f-b7f7-db16f43c2ebf"
      },
      "source": [
        "pred1 = pd.DataFrame(pred_price1, columns=['Close'])\n",
        "pred = pred.append(pred1, ignore_index=True)\n",
        "new_df2 = new_df.append(pred, ignore_index=True)\n",
        "\n",
        "last_100_days = new_df2[-100:].values\n",
        "last_100_days_norm = norm.transform(last_100_days)\n",
        "X_test = []\n",
        "X_test.append(last_100_days_norm)\n",
        "X_test = np.array(X_test)\n",
        "X_test = np.reshape(X_test, (X_test.shape[0], X_test.shape[1], 1))\n",
        "pred_price2 = model.predict(X_test)\n",
        "\n",
        "pred_price2 = norm.inverse_transform(pred_price2)\n",
        "print(pred_price2)"
      ],
      "execution_count": null,
      "outputs": [
        {
          "output_type": "stream",
          "text": [
            "[[59.857906]]\n"
          ],
          "name": "stdout"
        }
      ]
    },
    {
      "cell_type": "code",
      "metadata": {
        "colab": {
          "base_uri": "https://localhost:8080/"
        },
        "id": "eV2GLEsmVlvU",
        "outputId": "07a785ac-42db-42cb-a572-c0cd0c457449"
      },
      "source": [
        "pred2 = pd.DataFrame(pred_price2, columns=['Close'])\n",
        "pred = pred.append(pred2, ignore_index=True)\n",
        "new_df3 = new_df.append(pred, ignore_index=True)\n",
        "\n",
        "last_100_days = new_df3[-100:].values\n",
        "last_100_days_norm = norm.transform(last_100_days)\n",
        "X_test = []\n",
        "X_test.append(last_100_days_norm)\n",
        "X_test = np.array(X_test)\n",
        "X_test = np.reshape(X_test, (X_test.shape[0], X_test.shape[1], 1))\n",
        "pred_price3 = model.predict(X_test)\n",
        "\n",
        "pred_price3 = norm.inverse_transform(pred_price3)\n",
        "print(pred_price3)"
      ],
      "execution_count": null,
      "outputs": [
        {
          "output_type": "stream",
          "text": [
            "[[60.29944]]\n"
          ],
          "name": "stdout"
        }
      ]
    },
    {
      "cell_type": "code",
      "metadata": {
        "colab": {
          "base_uri": "https://localhost:8080/"
        },
        "id": "uUor_fNsW7Rx",
        "outputId": "3e19615c-6f41-45ef-f405-bfe02018e90c"
      },
      "source": [
        "pred3 = pd.DataFrame(pred_price3, columns=['Close'])\n",
        "pred = pred.append(pred3, ignore_index=True)\n",
        "new_df4 = new_df.append(pred, ignore_index=True)\n",
        "\n",
        "last_100_days = new_df4[-100:].values\n",
        "last_100_days_norm = norm.transform(last_100_days)\n",
        "X_test = []\n",
        "X_test.append(last_100_days_norm)\n",
        "X_test = np.array(X_test)\n",
        "X_test = np.reshape(X_test, (X_test.shape[0], X_test.shape[1], 1))\n",
        "pred_price4 = model.predict(X_test)\n",
        "\n",
        "pred_price4 = norm.inverse_transform(pred_price4)\n",
        "print(pred_price4)"
      ],
      "execution_count": null,
      "outputs": [
        {
          "output_type": "stream",
          "text": [
            "[[60.78772]]\n"
          ],
          "name": "stdout"
        }
      ]
    },
    {
      "cell_type": "code",
      "metadata": {
        "colab": {
          "base_uri": "https://localhost:8080/",
          "height": 197
        },
        "id": "YjU4RP-uY9hc",
        "outputId": "13f33094-7d93-4235-983e-609166dc7aa8"
      },
      "source": [
        "pred4 = pd.DataFrame(pred_price4, columns=['Close'])\n",
        "pred = pred.append(pred4, ignore_index=True)\n",
        "pred"
      ],
      "execution_count": null,
      "outputs": [
        {
          "output_type": "execute_result",
          "data": {
            "text/html": [
              "<div>\n",
              "<style scoped>\n",
              "    .dataframe tbody tr th:only-of-type {\n",
              "        vertical-align: middle;\n",
              "    }\n",
              "\n",
              "    .dataframe tbody tr th {\n",
              "        vertical-align: top;\n",
              "    }\n",
              "\n",
              "    .dataframe thead th {\n",
              "        text-align: right;\n",
              "    }\n",
              "</style>\n",
              "<table border=\"1\" class=\"dataframe\">\n",
              "  <thead>\n",
              "    <tr style=\"text-align: right;\">\n",
              "      <th></th>\n",
              "      <th>Close</th>\n",
              "    </tr>\n",
              "  </thead>\n",
              "  <tbody>\n",
              "    <tr>\n",
              "      <th>0</th>\n",
              "      <td>59.384132</td>\n",
              "    </tr>\n",
              "    <tr>\n",
              "      <th>1</th>\n",
              "      <td>59.506382</td>\n",
              "    </tr>\n",
              "    <tr>\n",
              "      <th>2</th>\n",
              "      <td>59.857906</td>\n",
              "    </tr>\n",
              "    <tr>\n",
              "      <th>3</th>\n",
              "      <td>60.299438</td>\n",
              "    </tr>\n",
              "    <tr>\n",
              "      <th>4</th>\n",
              "      <td>60.787720</td>\n",
              "    </tr>\n",
              "  </tbody>\n",
              "</table>\n",
              "</div>"
            ],
            "text/plain": [
              "       Close\n",
              "0  59.384132\n",
              "1  59.506382\n",
              "2  59.857906\n",
              "3  60.299438\n",
              "4  60.787720"
            ]
          },
          "metadata": {
            "tags": []
          },
          "execution_count": 54
        }
      ]
    },
    {
      "cell_type": "code",
      "metadata": {
        "colab": {
          "base_uri": "https://localhost:8080/",
          "height": 197
        },
        "id": "PipAO56tY-lI",
        "outputId": "410d4a64-d55c-4e8f-ea8e-b00da34591ff"
      },
      "source": [
        "df.tail()"
      ],
      "execution_count": null,
      "outputs": [
        {
          "output_type": "execute_result",
          "data": {
            "text/html": [
              "<div>\n",
              "<style scoped>\n",
              "    .dataframe tbody tr th:only-of-type {\n",
              "        vertical-align: middle;\n",
              "    }\n",
              "\n",
              "    .dataframe tbody tr th {\n",
              "        vertical-align: top;\n",
              "    }\n",
              "\n",
              "    .dataframe thead th {\n",
              "        text-align: right;\n",
              "    }\n",
              "</style>\n",
              "<table border=\"1\" class=\"dataframe\">\n",
              "  <thead>\n",
              "    <tr style=\"text-align: right;\">\n",
              "      <th></th>\n",
              "      <th>Gmt time</th>\n",
              "      <th>Open</th>\n",
              "      <th>High</th>\n",
              "      <th>Low</th>\n",
              "      <th>Close</th>\n",
              "      <th>Volume</th>\n",
              "    </tr>\n",
              "  </thead>\n",
              "  <tbody>\n",
              "    <tr>\n",
              "      <th>2207</th>\n",
              "      <td>2019-08-27 21:00:00</td>\n",
              "      <td>59.988</td>\n",
              "      <td>60.971</td>\n",
              "      <td>59.785</td>\n",
              "      <td>60.425</td>\n",
              "      <td>2711.7090</td>\n",
              "    </tr>\n",
              "    <tr>\n",
              "      <th>2208</th>\n",
              "      <td>2019-08-28 21:00:00</td>\n",
              "      <td>60.438</td>\n",
              "      <td>61.165</td>\n",
              "      <td>59.971</td>\n",
              "      <td>61.045</td>\n",
              "      <td>3825.6670</td>\n",
              "    </tr>\n",
              "    <tr>\n",
              "      <th>2209</th>\n",
              "      <td>2019-08-29 21:00:00</td>\n",
              "      <td>60.305</td>\n",
              "      <td>60.595</td>\n",
              "      <td>58.500</td>\n",
              "      <td>59.035</td>\n",
              "      <td>13420.6841</td>\n",
              "    </tr>\n",
              "    <tr>\n",
              "      <th>2210</th>\n",
              "      <td>2019-01-09 21:00:00</td>\n",
              "      <td>58.805</td>\n",
              "      <td>59.235</td>\n",
              "      <td>58.075</td>\n",
              "      <td>58.575</td>\n",
              "      <td>4235.2330</td>\n",
              "    </tr>\n",
              "    <tr>\n",
              "      <th>2211</th>\n",
              "      <td>2019-02-09 21:00:00</td>\n",
              "      <td>58.448</td>\n",
              "      <td>58.846</td>\n",
              "      <td>57.205</td>\n",
              "      <td>58.175</td>\n",
              "      <td>4221.8670</td>\n",
              "    </tr>\n",
              "  </tbody>\n",
              "</table>\n",
              "</div>"
            ],
            "text/plain": [
              "                Gmt time    Open    High     Low   Close      Volume\n",
              "2207 2019-08-27 21:00:00  59.988  60.971  59.785  60.425   2711.7090\n",
              "2208 2019-08-28 21:00:00  60.438  61.165  59.971  61.045   3825.6670\n",
              "2209 2019-08-29 21:00:00  60.305  60.595  58.500  59.035  13420.6841\n",
              "2210 2019-01-09 21:00:00  58.805  59.235  58.075  58.575   4235.2330\n",
              "2211 2019-02-09 21:00:00  58.448  58.846  57.205  58.175   4221.8670"
            ]
          },
          "metadata": {
            "tags": []
          },
          "execution_count": 55
        }
      ]
    },
    {
      "cell_type": "code",
      "metadata": {
        "id": "nDZrx_nJZdvj"
      },
      "source": [
        ""
      ],
      "execution_count": null,
      "outputs": []
    }
  ]
}